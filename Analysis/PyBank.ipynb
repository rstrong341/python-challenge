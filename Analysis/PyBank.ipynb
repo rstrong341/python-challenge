{
 "cells": [
  {
   "cell_type": "code",
   "execution_count": 56,
   "metadata": {},
   "outputs": [],
   "source": [
    "import os\n",
    "import csv\n",
    "\n",
    "PyBank_csv = os.path.join(\"budget_data.csv\")\n",
    "PyBank_csv_output = os.path.join(\"budget_analysis.txt\")"
   ]
  },
  {
   "cell_type": "code",
   "execution_count": 22,
   "metadata": {},
   "outputs": [],
   "source": [
    "#Set up variables and lists\n",
    "Total_Net = []\n",
    "greatest_increase = [\"\", 0]\n",
    "greatest_decrease = [\"\",9999999999]\n",
    "dif_list = []\n",
    "Month = []\n",
    "\n",
    "#Open file with csv_reader\n",
    "with open(PyBank_csv) as data:\n",
    "    csv_reader = csv.reader(data)\n",
    "    \n",
    "    #Skip over and store header\n",
    "    header = next(csv_reader)\n",
    "    \n",
    "    #Create Variable for skipping the first row.  \n",
    "    Previous = next(csv_reader)\n",
    "    Previous_Profit = int(Previous[1])\n",
    "    \n",
    "    #Create for loop\n",
    "    for row in csv_reader:\n",
    "        \n",
    "        #Subtract the Column we mad without the first row from the original column\n",
    "        net_change = int(row[1]) - Previous_Profit          \n",
    "        Previous_Profit = int(row[1])\n",
    "     \n",
    "        #Create list to keep track of net change\n",
    "        dif_list = dif_list + [net_change]\n",
    "        #Create Variable for Months that correspond with net change\n",
    "        Month = Month + [row[0]]\n",
    "\n",
    "        #If profit/loss column is greater than 0, output the corresponding month and the net change\n",
    "        if net_change > greatest_increase[1]:\n",
    "            greatest_increase[0] = row[0]\n",
    "            greatest_increase[1] = net_change\n",
    "        #If profit/loss column is less than 9999999999, output the corresponding month and the net change\n",
    "        if net_change < greatest_decrease[1]:\n",
    "            greatest_decrease[0] = row[0]\n",
    "            greatest_decrease[1] = net_change        "
   ]
  },
  {
   "cell_type": "code",
   "execution_count": 23,
   "metadata": {},
   "outputs": [],
   "source": [
    "#Create a list for the profit/loss column\n",
    "Total_Net = []\n",
    "\n",
    "with open(PyBank_csv) as data:\n",
    "    csv_reader = csv.reader(data)\n",
    "    header = next(csv_reader)\n",
    "    \n",
    "    for row in csv_reader:\n",
    "        \n",
    "        #Add profit/loss column to a list\n",
    "        Profits = (int(row[1]))\n",
    "        Total_Net.append(Profits)\n",
    "#Add up the sum of the list        \n",
    "Total = sum(Total_Net)"
   ]
  },
  {
   "cell_type": "code",
   "execution_count": 24,
   "metadata": {},
   "outputs": [],
   "source": [
    "#Create list to find the average change of months\n",
    "diff_list = [] \n",
    "\n",
    "#use zip method to make two columns, one that skips the first row and one that does not.  Then subtract the variables use to represent the rows.\n",
    "for x, y in zip(Total_Net[0:], Total_Net[1:]): \n",
    "    diff_list.append(y-x) \n",
    "\n",
    "#Divide the total by the length\n",
    "AVG_Change = sum(diff_list) / len(diff_list)"
   ]
  },
  {
   "cell_type": "code",
   "execution_count": 25,
   "metadata": {},
   "outputs": [],
   "source": [
    "#Formating to remove brackets and quotes\n",
    "reformated_decrease =  (''.join(greatest_decrease[0])) \n",
    "reformated_decrease_2 = greatest_decrease[1]\n",
    "\n",
    "reformated_increase =  (''.join(greatest_increase[0])) \n",
    "reformated_increase_2 = greatest_increase[1]\n",
    "\n",
    "#Formating to chose decimal points\n",
    "avg_change = round(AVG_Change, 2)"
   ]
  },
  {
   "cell_type": "code",
   "execution_count": 26,
   "metadata": {},
   "outputs": [],
   "source": [
    "Total_months = len(Total_Net)"
   ]
  },
  {
   "cell_type": "code",
   "execution_count": 19,
   "metadata": {},
   "outputs": [
    {
     "name": "stdout",
     "output_type": "stream",
     "text": [
      "Financial Analysis\n",
      "-----------------------\n",
      "Total Months: 86\n",
      "Total: $38382578\n",
      "Average Change: $-2315.12\n",
      "Greatest Increase In Profits: Feb-2012 ($1926159)\n",
      "Greatest Decrease In Profits: Sep-2013 ($-2196167)\n"
     ]
    }
   ],
   "source": [
    "    print(\"Financial Analysis\")\n",
    "    print(\"-----------------------\")\n",
    "    print(\"Total Months: \" + str(Total_months))\n",
    "    print(\"Total: $\" + str(Total))\n",
    "    print(\"Average Change: $\" + str(avg_change))\n",
    "    print(\"Greatest Increase In Profits: \" + reformated_increase + \" ($\" + str(reformated_increase_2) + \")\")\n",
    "    print(\"Greatest Decrease In Profits: \" + reformated_decrease + \" ($\" + str(reformated_decrease_2) + \")\")\n"
   ]
  },
  {
   "cell_type": "code",
   "execution_count": 53,
   "metadata": {},
   "outputs": [
    {
     "name": "stdout",
     "output_type": "stream",
     "text": [
      "\n",
      "Financial Analysis\n",
      "---------------------------------------------\n",
      "Total Months: 86\n",
      "Total: $38382578\n",
      "Average Change: $-2315.12 \n",
      "Greatest Increase in Profits: Feb-2012 ($1926159)\n",
      "Greatest Decrease in Profits: Sep-2013 ($-2196167)\n"
     ]
    }
   ],
   "source": [
    "output = (\n",
    "f\"\\nFinancial Analysis\\n\"\n",
    "f\"---------------------------------------------\"\n",
    "f\"\\nTotal Months: {Total_months}\"\n",
    "f\"\\nTotal: ${Total}\"\n",
    "f\"\\nAverage Change: ${avg_change} \"\n",
    "f\"\\nGreatest Increase in Profits: {reformated_increase} (${reformated_increase_2})\"\n",
    "f\"\\nGreatest Decrease in Profits: {reformated_decrease} (${reformated_decrease_2})\"\n",
    ")\n",
    "print(output)"
   ]
  },
  {
   "cell_type": "code",
   "execution_count": 57,
   "metadata": {},
   "outputs": [],
   "source": [
    "with open(PyBank_csv_output, \"w\") as txt_file:\n",
    "    txt_file.write(output)"
   ]
  }
 ],
 "metadata": {
  "kernelspec": {
   "display_name": "Python 3",
   "language": "python",
   "name": "python3"
  },
  "language_info": {
   "codemirror_mode": {
    "name": "ipython",
    "version": 3
   },
   "file_extension": ".py",
   "mimetype": "text/x-python",
   "name": "python",
   "nbconvert_exporter": "python",
   "pygments_lexer": "ipython3",
   "version": "3.8.5"
  }
 },
 "nbformat": 4,
 "nbformat_minor": 4
}
