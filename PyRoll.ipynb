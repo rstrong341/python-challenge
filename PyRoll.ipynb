{
 "cells": [
  {
   "cell_type": "code",
   "execution_count": 2,
   "metadata": {},
   "outputs": [],
   "source": [
    "#Import Tools\n",
    "import os\n",
    "import csv\n",
    "import collections\n",
    "from collections import OrderedDict\n",
    "import operator"
   ]
  },
  {
   "cell_type": "code",
   "execution_count": 3,
   "metadata": {},
   "outputs": [],
   "source": [
    "PyRoll_csv = os.path.join(\"election_data.csv\")\n",
    "PyRoll_csv_output = os.path.join(\"election_analysis.txt\")"
   ]
  },
  {
   "cell_type": "code",
   "execution_count": 4,
   "metadata": {},
   "outputs": [],
   "source": [
    "#Create list for candidates\n",
    "candidates_list = [] \n",
    "\n",
    "#Open CSV File\n",
    "with open(PyRoll_csv) as data: \n",
    "    reader = csv.reader(data)\n",
    "    \n",
    "    #Skip the first row and store that row as \"header\"\n",
    "    header = next(reader)\n",
    "    \n",
    "    #Create for loop\n",
    "    for row in reader:\n",
    "        \n",
    "        #Create a varibale for the column we want and add it to the list we created\n",
    "        name = row[2]\n",
    "        candidates_list.append(name)\n",
    "\n",
    "#Use Counter to count frequencies and place frequencies in a dictionary\n",
    "ctr = collections.Counter(candidates_list)"
   ]
  },
  {
   "cell_type": "code",
   "execution_count": 5,
   "metadata": {},
   "outputs": [],
   "source": [
    "key_max = max(ctr.keys(), key=(lambda k: ctr[k]))\n",
    "key_min = min(ctr.keys(), key=(lambda k: ctr[k]))\n",
    "\n",
    "#Create Variable for winner name or value\n",
    "winner_value = ctr[key_max]\n",
    "winner_name = max(ctr.items(), key=operator.itemgetter(1))[0]"
   ]
  },
  {
   "cell_type": "code",
   "execution_count": 6,
   "metadata": {},
   "outputs": [],
   "source": [
    "#Create a list for the voters found in the Counter\n",
    "Khan_Votes = ctr['Khan']\n",
    "Correy_Votes = ctr['Correy']\n",
    "Li_Votes = ctr['Li']\n",
    "OTooley_Votes = ctr[\"O'Tooley\"]\n",
    "\n",
    "Voters_list = [Khan_Votes, Correy_Votes, Li_Votes, OTooley_Votes]\n",
    "\n",
    "#Find the sum of the votes\n",
    "Total_Votes = sum(Voters_list)\n",
    "\n",
    "#Find the percentage of the votes each candidate received\n",
    "Khan = Khan_Votes / sum(Voters_list)\n",
    "Correy = Correy_Votes / sum(Voters_list)\n",
    "Li = Li_Votes / sum(Voters_list)\n",
    "OTooley = OTooley_Votes / sum(Voters_list)\n"
   ]
  },
  {
   "cell_type": "code",
   "execution_count": 7,
   "metadata": {},
   "outputs": [],
   "source": [
    "#Format the percentages\n",
    "Khan_Percentage = \"{:.3%}\".format(Khan)\n",
    "Correy_Percentage = \"{:.3%}\".format(Correy)\n",
    "Li_Percentage = \"{:.3%}\".format(Li)\n",
    "OTooley_Percentage = \"{:.3%}\".format(OTooley)"
   ]
  },
  {
   "cell_type": "code",
   "execution_count": 8,
   "metadata": {},
   "outputs": [
    {
     "name": "stdout",
     "output_type": "stream",
     "text": [
      "Election Results\n",
      "-----------------------\n",
      "Total Votes: 3521001\n",
      "-----------------------\n",
      "Khan: 63.000%(2218231)\n",
      "Correy: 20.000%(704200)\n",
      "Li: 14.000%(492940)\n",
      "O'Tooley: 3.000%(105630)\n",
      "-----------------------\n",
      "Winner: Khan\n",
      "-----------------------\n"
     ]
    }
   ],
   "source": [
    "print(\"Election Results\")\n",
    "print(\"-----------------------\")\n",
    "print(\"Total Votes: \" + str(Total_Votes))\n",
    "print(\"-----------------------\")\n",
    "print(\"Khan: \" + str(Khan_Percentage) + \"(\" + str(Khan_Votes) + \")\") \n",
    "print(\"Correy: \" + str(Correy_Percentage) + \"(\" + str(Correy_Votes) + \")\") \n",
    "print(\"Li: \" + str(Li_Percentage) + \"(\" + str(Li_Votes) + \")\") \n",
    "print(\"O'Tooley: \" + str(OTooley_Percentage) + \"(\" + str(OTooley_Votes) + \")\") \n",
    "print(\"-----------------------\")\n",
    "print(\"Winner: \" + winner_name)\n",
    "print(\"-----------------------\")"
   ]
  },
  {
   "cell_type": "code",
   "execution_count": 16,
   "metadata": {},
   "outputs": [
    {
     "name": "stdout",
     "output_type": "stream",
     "text": [
      "\n",
      "Election Results\n",
      "----------------------------\n",
      "Total Votes: 3521001\n",
      "----------------------------\n",
      "Khan: 63.000% (2218231)\n",
      "Correy: 20.000% (704200)\n",
      "Li: 14.000% (492940)\n",
      "O'Tooley: 3.000% (105630)\n",
      "----------------------------\n",
      "Winner: Khan \n",
      "----------------------------\n"
     ]
    }
   ],
   "source": [
    "output = (\n",
    "f\"\\nElection Results\\n\"\n",
    "f\"----------------------------\"\n",
    "f\"\\nTotal Votes: {Total_Votes}\\n\"\n",
    "f\"----------------------------\"\n",
    "f\"\\nKhan: {Khan_Percentage} ({Khan_Votes})\\n\"\n",
    "f\"Correy: {Correy_Percentage} ({Correy_Votes})\\n\"\n",
    "f\"Li: {Li_Percentage} ({Li_Votes})\\n\"\n",
    "f\"O'Tooley: {OTooley_Percentage} ({OTooley_Votes})\\n\"\n",
    "f\"----------------------------\"\n",
    "f\"\\nWinner: {winner_name} \\n\"\n",
    "f\"----------------------------\"\n",
    "\n",
    "\n",
    ")\n",
    "print(output)"
   ]
  },
  {
   "cell_type": "code",
   "execution_count": 18,
   "metadata": {},
   "outputs": [],
   "source": [
    "with open(PyRoll_csv_output, \"w\") as txt_file:\n",
    "    txt_file.write(output)"
   ]
  }
 ],
 "metadata": {
  "kernelspec": {
   "display_name": "Python 3",
   "language": "python",
   "name": "python3"
  },
  "language_info": {
   "codemirror_mode": {
    "name": "ipython",
    "version": 3
   },
   "file_extension": ".py",
   "mimetype": "text/x-python",
   "name": "python",
   "nbconvert_exporter": "python",
   "pygments_lexer": "ipython3",
   "version": "3.8.5"
  }
 },
 "nbformat": 4,
 "nbformat_minor": 4
}
